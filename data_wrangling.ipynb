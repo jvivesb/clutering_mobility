{
 "cells": [
  {
   "cell_type": "code",
   "execution_count": 80,
   "metadata": {
    "collapsed": true
   },
   "outputs": [],
   "source": [
    "import numpy as np\n",
    "import pandas as pd\n",
    "%matplotlib inline\n",
    "import matplotlib.pyplot as plt\n",
    "import seaborn as sns\n",
    "\n",
    "from sklearn.pipeline import Pipeline, FeatureUnion\n",
    "from sklearn.preprocessing import OneHotEncoder, PolynomialFeatures\n",
    "from sklearn import linear_model as lm\n",
    "import sklearn.preprocessing as pre\n",
    "from sklearn.metrics import mean_squared_error\n",
    "from sklearn.feature_selection import SelectKBest\n",
    "from sklearn.feature_selection import chi2\n",
    "from sklearn.metrics import make_scorer\n",
    "from sklearn.model_selection import cross_val_score, train_test_split\n",
    "from sklearn.utils import shuffle\n",
    "from sklearn import svm\n",
    "\n",
    "from sklearn.svm import SVC\n",
    "\n",
    "from IPython.display import display, Latex, Markdown\n",
    "\n",
    "import warnings\n",
    "warnings.filterwarnings(\"ignore\")"
   ]
  },
  {
   "cell_type": "code",
   "execution_count": 2,
   "metadata": {
    "collapsed": false
   },
   "outputs": [],
   "source": [
    "data = pd.read_csv('mrc_table5.csv')"
   ]
  },
  {
   "cell_type": "code",
   "execution_count": 3,
   "metadata": {
    "collapsed": false
   },
   "outputs": [],
   "source": [
    "pd.set_option('display.max_columns', None)\n",
    "#data['k_q1_m'] + data['k_q2_m'] + data['k_q3_m'] + data['k_q4_m'] + data['k_q5_m']"
   ]
  },
  {
   "cell_type": "markdown",
   "metadata": {},
   "source": [
    "### Idea: predict child most likely quintile given data"
   ]
  },
  {
   "cell_type": "code",
   "execution_count": 4,
   "metadata": {
    "collapsed": false
   },
   "outputs": [
    {
     "data": {
      "text/plain": [
       "Index(['super_opeid', 'cohort', 'name', 'type', 'tier', 'tier_name', 'iclevel',\n",
       "       'region', 'state', 'cz',\n",
       "       ...\n",
       "       'kq1_cond_parq5_age20', 'kq2_cond_parq5_age20', 'kq3_cond_parq5_age20',\n",
       "       'kq4_cond_parq5_age20', 'kq5_cond_parq5_age20',\n",
       "       'ktop1pc_cond_parq1_age20', 'ktop1pc_cond_parq2_age20',\n",
       "       'ktop1pc_cond_parq3_age20', 'ktop1pc_cond_parq4_age20',\n",
       "       'ktop1pc_cond_parq5_age20'],\n",
       "      dtype='object', length=207)"
      ]
     },
     "execution_count": 4,
     "metadata": {},
     "output_type": "execute_result"
    }
   ],
   "source": [
    "data.columns"
   ]
  },
  {
   "cell_type": "code",
   "execution_count": 5,
   "metadata": {
    "collapsed": false
   },
   "outputs": [],
   "source": [
    "columns = ['cohort', 'name', 'type', 'tier', 'tier_name', 'iclevel',\n",
    "       'region', 'state', 'county', 'count_m', 'par_mean_m', 'par_rank_m', \\\n",
    "          'par_q1_m', 'par_q2_m', 'par_q3_m', 'par_q4_m', 'par_q5_m', 'par_top10pc_m', 'par_top5pc_m', \\\n",
    "          'par_top1pc_m', 'par_toppt1pc_m', 'k_q1_m', 'k_q2_m', 'k_q3_m', 'k_q4_m', 'k_q5_m']\n",
    "data_1 = data[columns]\n",
    "# it seems that age20 , f and m dont exist in the dataset"
   ]
  },
  {
   "cell_type": "code",
   "execution_count": 6,
   "metadata": {
    "collapsed": false
   },
   "outputs": [],
   "source": [
    "data_1 = data_1.dropna()"
   ]
  },
  {
   "cell_type": "code",
   "execution_count": 7,
   "metadata": {
    "collapsed": false
   },
   "outputs": [],
   "source": [
    "# set a column ml_q with the most likely quintile\n",
    "qs = []\n",
    "for i, row in data_1.iterrows():\n",
    "    quantile = np.argmax(data_1[['k_q1_m', 'k_q2_m', 'k_q3_m', 'k_q4_m', 'k_q5_m']].loc[i].values) + 1\n",
    "    qs.append(quantile)"
   ]
  },
  {
   "cell_type": "code",
   "execution_count": 68,
   "metadata": {
    "collapsed": false
   },
   "outputs": [],
   "source": [
    "data_2 = data_1.copy()\n",
    "data_2['label'] = qs"
   ]
  },
  {
   "cell_type": "code",
   "execution_count": 69,
   "metadata": {
    "collapsed": false
   },
   "outputs": [],
   "source": [
    "data_2 = data_2.drop(['k_q1_m', 'k_q2_m', 'k_q3_m', 'k_q4_m', 'k_q5_m', 'tier_name'], 1)"
   ]
  },
  {
   "cell_type": "code",
   "execution_count": 70,
   "metadata": {
    "collapsed": false
   },
   "outputs": [],
   "source": [
    "data_2 = data_2.reset_index()\n",
    "data_2 = data_2.drop('index',1)"
   ]
  },
  {
   "cell_type": "code",
   "execution_count": 71,
   "metadata": {
    "collapsed": false
   },
   "outputs": [],
   "source": [
    "# dummies\n",
    "data_2 = pd.get_dummies(data_2)"
   ]
  },
  {
   "cell_type": "markdown",
   "metadata": {},
   "source": [
    "### Data Exploration"
   ]
  },
  {
   "cell_type": "code",
   "execution_count": 12,
   "metadata": {
    "collapsed": false
   },
   "outputs": [
    {
     "data": {
      "image/png": "[encoded data removed]",
      "text/plain": [
       "<matplotlib.figure.Figure at 0x11801e2b0>"
      ]
     },
     "metadata": {},
     "output_type": "display_data"
    }
   ],
   "source": [
    "data_2['label'].hist()\n",
    "plt.show()"
   ]
  },
  {
   "cell_type": "code",
   "execution_count": 13,
   "metadata": {
    "collapsed": false
   },
   "outputs": [],
   "source": [
    "# heatmap\n",
    "correlations = data_2.corr()\n",
    "#label_corrs = (correlations[abs(correlations['label']) > 0.4][['label']]\n",
    "#                     .sort_values('label', ascending=False))\n",
    "\n",
    "#correlations_reduced = data_2[label_corrs.index].corr()\n",
    "#f, ax = plt.subplots(figsize=(10, 7))\n",
    "#sns.heatmap(correlations_reduced, annot=True, vmax=.8, square=True)\n",
    "#plt.title('Heat Map for features correlated with SalesPrice')\n",
    "#sales_price_corrs"
   ]
  },
  {
   "cell_type": "code",
   "execution_count": 15,
   "metadata": {
    "collapsed": true
   },
   "outputs": [],
   "source": [
    "label_corrs = (correlations[abs(correlations['label']) > 0.4][['label']]\n",
    "                     .sort_values('label', ascending=False))"
   ]
  },
  {
   "cell_type": "code",
   "execution_count": 16,
   "metadata": {
    "collapsed": false
   },
   "outputs": [
    {
     "data": {
      "text/plain": [
       "<matplotlib.text.Text at 0x11830bcc0>"
      ]
     },
     "execution_count": 16,
     "metadata": {},
     "output_type": "execute_result"
    },
    {
     "data": {
      "image/png": "[encoded data removed]",
      "text/plain": [
       "<matplotlib.figure.Figure at 0x118301198>"
      ]
     },
     "metadata": {},
     "output_type": "display_data"
    }
   ],
   "source": [
    "# Interesting: only parent rank has a large correlation with the label!\n",
    "correlations_reduced = data_2[label_corrs.index].corr()\n",
    "f, ax = plt.subplots(figsize=(10, 7))\n",
    "sns.heatmap(correlations_reduced, annot=True, vmax=.8, square=True)\n",
    "plt.title('Heat Map for features correlated with SalesPrice')"
   ]
  },
  {
   "cell_type": "markdown",
   "metadata": {},
   "source": [
    "### Model"
   ]
  },
  {
   "cell_type": "code",
   "execution_count": 72,
   "metadata": {
    "collapsed": false
   },
   "outputs": [],
   "source": [
    "y_label = data_2.pop('label')\n",
    "features = data_2.copy()"
   ]
  },
  {
   "cell_type": "code",
   "execution_count": 73,
   "metadata": {
    "collapsed": false
   },
   "outputs": [
    {
     "data": {
      "text/plain": [
       "(23877, 3208)"
      ]
     },
     "execution_count": 73,
     "metadata": {},
     "output_type": "execute_result"
    }
   ],
   "source": [
    "features.shape"
   ]
  },
  {
   "cell_type": "code",
   "execution_count": 74,
   "metadata": {
    "collapsed": false
   },
   "outputs": [],
   "source": [
    "from sklearn.decomposition import PCA\n",
    "pca = PCA(n_components = 1600)\n",
    "pca.fit(features)\n",
    "features = pca.transform(features)"
   ]
  },
  {
   "cell_type": "code",
   "execution_count": 75,
   "metadata": {
    "collapsed": false
   },
   "outputs": [],
   "source": [
    "#shuffle data\n",
    "train_features, train_labels = shuffle(features, y_label, random_state = 200)"
   ]
  },
  {
   "cell_type": "code",
   "execution_count": 76,
   "metadata": {
    "collapsed": true
   },
   "outputs": [],
   "source": [
    "x_train, x_test, y_train, y_test = train_test_split(train_features,\\\n",
    "                                train_labels, test_size=0.2, random_state=200)"
   ]
  },
  {
   "cell_type": "code",
   "execution_count": 77,
   "metadata": {
    "collapsed": false
   },
   "outputs": [
    {
     "data": {
      "text/plain": [
       "(19101, 1600)"
      ]
     },
     "execution_count": 77,
     "metadata": {},
     "output_type": "execute_result"
    }
   ],
   "source": [
    "x_train.shape"
   ]
  },
  {
   "cell_type": "code",
   "execution_count": 81,
   "metadata": {
    "collapsed": false
   },
   "outputs": [],
   "source": [
    "# model\n",
    "model_1 = Pipeline([ \n",
    "    ('enet', svm.LinearSVC(C=0.774263682681, penalty = 'l1', dual= False))\n",
    "])\n",
    "\n",
    "model_2 = Pipeline([ \n",
    "    ('svm', svm.SVC(C=10.0, kernel='linear'))\n",
    "])\n"
   ]
  },
  {
   "cell_type": "code",
   "execution_count": 82,
   "metadata": {
    "collapsed": false
   },
   "outputs": [
    {
     "data": {
      "text/plain": [
       "Pipeline(steps=[('enet', LinearSVC(C=0.774263682681, class_weight=None, dual=False, fit_intercept=True,\n",
       "     intercept_scaling=1, loss='squared_hinge', max_iter=1000,\n",
       "     multi_class='ovr', penalty='l1', random_state=None, tol=0.0001,\n",
       "     verbose=0))])"
      ]
     },
     "execution_count": 82,
     "metadata": {},
     "output_type": "execute_result"
    }
   ],
   "source": [
    "model_1.fit(x_train, y_train)"
   ]
  },
  {
   "cell_type": "code",
   "execution_count": 83,
   "metadata": {
    "collapsed": false
   },
   "outputs": [],
   "source": [
    "pred = model_1.predict(x_test)"
   ]
  },
  {
   "cell_type": "code",
   "execution_count": 84,
   "metadata": {
    "collapsed": false
   },
   "outputs": [],
   "source": [
    "from sklearn.metrics import accuracy_score"
   ]
  },
  {
   "cell_type": "code",
   "execution_count": 85,
   "metadata": {
    "collapsed": false
   },
   "outputs": [
    {
     "name": "stdout",
     "output_type": "stream",
     "text": [
      "0.70540201005\n"
     ]
    }
   ],
   "source": [
    "print(accuracy_score(y_test, pred))"
   ]
  },
  {
   "cell_type": "code",
   "execution_count": 59,
   "metadata": {
    "collapsed": false
   },
   "outputs": [
    {
     "name": "stdout",
     "output_type": "stream",
     "text": [
      "Trying  100  features\n",
      "Trying  400  features\n",
      "Trying  700  features\n",
      "Trying  1000  features\n",
      "Trying  1300  features\n",
      "Trying  1600  features\n",
      "Trying  1900  features\n",
      "Trying  2200  features\n",
      "Trying  2500  features\n",
      "Trying  2800  features\n"
     ]
    },
    {
     "data": {
      "image/png": "[encoded data removed]",
      "text/plain": [
       "<matplotlib.figure.Figure at 0x11b103860>"
      ]
     },
     "metadata": {},
     "output_type": "display_data"
    }
   ],
   "source": [
    "# how many features should we grab?\n",
    "num = np.arange(100,3000,300)\n",
    "score = []\n",
    "for n in num:\n",
    "    pca = PCA(n_components = n)\n",
    "    pca.fit(features)\n",
    "    f = pca.transform(features)\n",
    "    train_features, train_labels = shuffle(f, y_label, random_state = 200)\n",
    "    x_train, x_test, y_train, y_test = train_test_split(train_features,\\\n",
    "                                train_labels, test_size=0.2, random_state=200)\n",
    "    model_1.fit(x_train, y_train)\n",
    "    pred = model_1.predict(x_test)\n",
    "    score.append(accuracy_score(y_test, pred))\n",
    "    print('Trying ', n, ' features')\n",
    "plt.title('CV plot for number of features')\n",
    "plt.plot(num, score)\n",
    "plt.show()"
   ]
  },
  {
   "cell_type": "code",
   "execution_count": 33,
   "metadata": {
    "collapsed": false
   },
   "outputs": [],
   "source": [
    "# cross validation\n",
    "\n",
    "# How is SVM doing?\n",
    "\n",
    "\n",
    "# Code for plot\n",
    "margins = np.logspace(-9,1, 10)\n",
    "score = []\n",
    "for a in margins:\n",
    "    svc = svm.LinearSVC(C=a, penalty = 'l1', dual= False).fit(x_train, y_train)\n",
    "    scores = cross_val_score(svc, x_test, y_test, cv=5)\n",
    "    score.append(np.mean(scores))\n"
   ]
  },
  {
   "cell_type": "code",
   "execution_count": 36,
   "metadata": {
    "collapsed": false
   },
   "outputs": [
    {
     "data": {
      "image/png": "[encoded data removed]",
      "text/plain": [
       "<matplotlib.figure.Figure at 0x11e9ac208>"
      ]
     },
     "metadata": {},
     "output_type": "display_data"
    },
    {
     "name": "stdout",
     "output_type": "stream",
     "text": [
      "Best Alpha:  0.774263682681  Best score:  0.661433751231\n"
     ]
    }
   ],
   "source": [
    "plt.title('CV plot for Linear SVM')\n",
    "plt.plot(margins, score)\n",
    "plt.show()\n",
    "\n",
    "print('Best Alpha: ', margins[np.argmax(score)], ' Best score: ', np.max(score))"
   ]
  },
  {
   "cell_type": "code",
   "execution_count": 87,
   "metadata": {
    "collapsed": false
   },
   "outputs": [],
   "source": [
    "from sklearn.ensemble import AdaBoostClassifier\n",
    "sv = svm.LinearSVC(C=0.774263682681, penalty = 'l1', dual= False).fit(x_train, y_train)\n",
    "Ada = AdaBoostClassifier(base_estimator=sv, algorithm='SAMME', n_estimators=5, learning_rate=0.001, random_state=None)"
   ]
  },
  {
   "cell_type": "code",
   "execution_count": 88,
   "metadata": {
    "collapsed": false
   },
   "outputs": [
    {
     "data": {
      "text/plain": [
       "AdaBoostClassifier(algorithm='SAMME',\n",
       "          base_estimator=LinearSVC(C=0.774263682681, class_weight=None, dual=False, fit_intercept=True,\n",
       "     intercept_scaling=1, loss='squared_hinge', max_iter=1000,\n",
       "     multi_class='ovr', penalty='l1', random_state=None, tol=0.0001,\n",
       "     verbose=0),\n",
       "          learning_rate=0.001, n_estimators=5, random_state=None)"
      ]
     },
     "execution_count": 88,
     "metadata": {},
     "output_type": "execute_result"
    }
   ],
   "source": [
    "Ada.fit(x_train, y_train)"
   ]
  },
  {
   "cell_type": "code",
   "execution_count": null,
   "metadata": {
    "collapsed": true
   },
   "outputs": [],
   "source": [
    "pred = Ada.predict(x_test)\n",
    "print(accuracy_score(y_test, pred))"
   ]
  }
 ],
 "metadata": {
  "anaconda-cloud": {},
  "kernelspec": {
   "display_name": "Python [default]",
   "language": "python",
   "name": "python3"
  },
  "language_info": {
   "codemirror_mode": {
    "name": "ipython",
    "version": 3
   },
   "file_extension": ".py",
   "mimetype": "text/x-python",
   "name": "python",
   "nbconvert_exporter": "python",
   "pygments_lexer": "ipython3",
   "version": "3.5.2"
  }
 },
 "nbformat": 4,
 "nbformat_minor": 1
}
